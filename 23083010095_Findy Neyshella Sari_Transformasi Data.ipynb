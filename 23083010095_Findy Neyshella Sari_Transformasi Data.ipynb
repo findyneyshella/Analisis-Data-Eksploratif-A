{
 "cells": [
  {
   "cell_type": "markdown",
   "id": "898273a9-7859-4075-893f-e2dce673e102",
   "metadata": {},
   "source": [
    "Nama: Findy Neyshella Sari"
   ]
  },
  {
   "cell_type": "markdown",
   "id": "e2a0f5b2-fbb4-457e-a3e3-991351eca6b0",
   "metadata": {},
   "source": [
    "NPM: 23083010095"
   ]
  },
  {
   "cell_type": "markdown",
   "id": "66d8469e-9f2f-486a-88b9-a054cf36b2cf",
   "metadata": {},
   "source": [
    "Kelas: Analisis Data Eksploratif(A)"
   ]
  },
  {
   "cell_type": "markdown",
   "id": "e1acbd61-7a7d-4f35-b757-1ce247f04510",
   "metadata": {
    "tags": []
   },
   "source": [
    "# Memeriksa Data apakah ada Missing Value"
   ]
  },
  {
   "cell_type": "code",
   "execution_count": 29,
   "id": "389dba58-a969-41bb-8846-9c48a830d564",
   "metadata": {
    "tags": []
   },
   "outputs": [
    {
     "data": {
      "text/html": [
       "<div>\n",
       "<style scoped>\n",
       "    .dataframe tbody tr th:only-of-type {\n",
       "        vertical-align: middle;\n",
       "    }\n",
       "\n",
       "    .dataframe tbody tr th {\n",
       "        vertical-align: top;\n",
       "    }\n",
       "\n",
       "    .dataframe thead th {\n",
       "        text-align: right;\n",
       "    }\n",
       "</style>\n",
       "<table border=\"1\" class=\"dataframe\">\n",
       "  <thead>\n",
       "    <tr style=\"text-align: right;\">\n",
       "      <th></th>\n",
       "      <th>Student ID</th>\n",
       "      <th>Name</th>\n",
       "      <th>Gender</th>\n",
       "      <th>Age</th>\n",
       "      <th>GPA</th>\n",
       "      <th>Major</th>\n",
       "      <th>Interested Domain</th>\n",
       "      <th>Projects</th>\n",
       "      <th>Future Career</th>\n",
       "      <th>Python</th>\n",
       "      <th>SQL</th>\n",
       "      <th>Java</th>\n",
       "    </tr>\n",
       "  </thead>\n",
       "  <tbody>\n",
       "    <tr>\n",
       "      <th>0</th>\n",
       "      <td>1</td>\n",
       "      <td>John Smith</td>\n",
       "      <td>Male</td>\n",
       "      <td>21</td>\n",
       "      <td>3.5</td>\n",
       "      <td>Computer Science</td>\n",
       "      <td>Artificial Intelligence</td>\n",
       "      <td>Chatbot Development</td>\n",
       "      <td>Machine Learning Researcher</td>\n",
       "      <td>Strong</td>\n",
       "      <td>Strong</td>\n",
       "      <td>Weak</td>\n",
       "    </tr>\n",
       "    <tr>\n",
       "      <th>1</th>\n",
       "      <td>2</td>\n",
       "      <td>Alice Johnson</td>\n",
       "      <td>Female</td>\n",
       "      <td>20</td>\n",
       "      <td>3.2</td>\n",
       "      <td>Computer Science</td>\n",
       "      <td>Data Science</td>\n",
       "      <td>Data Analytics</td>\n",
       "      <td>Data Scientist</td>\n",
       "      <td>Average</td>\n",
       "      <td>Strong</td>\n",
       "      <td>Weak</td>\n",
       "    </tr>\n",
       "    <tr>\n",
       "      <th>2</th>\n",
       "      <td>3</td>\n",
       "      <td>Robert Davis</td>\n",
       "      <td>Male</td>\n",
       "      <td>22</td>\n",
       "      <td>3.8</td>\n",
       "      <td>Computer Science</td>\n",
       "      <td>Software Development</td>\n",
       "      <td>E-commerce Website</td>\n",
       "      <td>Software Engineer</td>\n",
       "      <td>Strong</td>\n",
       "      <td>Strong</td>\n",
       "      <td>Average</td>\n",
       "    </tr>\n",
       "    <tr>\n",
       "      <th>3</th>\n",
       "      <td>4</td>\n",
       "      <td>Emily Wilson</td>\n",
       "      <td>Female</td>\n",
       "      <td>21</td>\n",
       "      <td>3.7</td>\n",
       "      <td>Computer Science</td>\n",
       "      <td>Web Development</td>\n",
       "      <td>Full-Stack Web App</td>\n",
       "      <td>Web Developer</td>\n",
       "      <td>Weak</td>\n",
       "      <td>Strong</td>\n",
       "      <td>Strong</td>\n",
       "    </tr>\n",
       "    <tr>\n",
       "      <th>4</th>\n",
       "      <td>5</td>\n",
       "      <td>Michael Brown</td>\n",
       "      <td>Male</td>\n",
       "      <td>23</td>\n",
       "      <td>3.4</td>\n",
       "      <td>Computer Science</td>\n",
       "      <td>Cybersecurity</td>\n",
       "      <td>Network Security</td>\n",
       "      <td>Information Security Analyst</td>\n",
       "      <td>Average</td>\n",
       "      <td>Weak</td>\n",
       "      <td>Strong</td>\n",
       "    </tr>\n",
       "  </tbody>\n",
       "</table>\n",
       "</div>"
      ],
      "text/plain": [
       "   Student ID           Name  Gender  Age  GPA             Major  \\\n",
       "0           1     John Smith    Male   21  3.5  Computer Science   \n",
       "1           2  Alice Johnson  Female   20  3.2  Computer Science   \n",
       "2           3   Robert Davis    Male   22  3.8  Computer Science   \n",
       "3           4   Emily Wilson  Female   21  3.7  Computer Science   \n",
       "4           5  Michael Brown    Male   23  3.4  Computer Science   \n",
       "\n",
       "         Interested Domain             Projects                 Future Career  \\\n",
       "0  Artificial Intelligence  Chatbot Development   Machine Learning Researcher   \n",
       "1             Data Science       Data Analytics                Data Scientist   \n",
       "2     Software Development   E-commerce Website             Software Engineer   \n",
       "3          Web Development   Full-Stack Web App                 Web Developer   \n",
       "4            Cybersecurity     Network Security  Information Security Analyst   \n",
       "\n",
       "    Python     SQL     Java  \n",
       "0   Strong  Strong     Weak  \n",
       "1  Average  Strong     Weak  \n",
       "2   Strong  Strong  Average  \n",
       "3     Weak  Strong   Strong  \n",
       "4  Average    Weak   Strong  "
      ]
     },
     "execution_count": 29,
     "metadata": {},
     "output_type": "execute_result"
    }
   ],
   "source": [
    "import pandas as pd\n",
    "data = pd.read_csv(\"D:/cs_studentss.csv\",  sep = \";\")\n",
    "data.head()"
   ]
  },
  {
   "cell_type": "code",
   "execution_count": 31,
   "id": "e4a23e9a-d262-465b-b69e-526222cd407c",
   "metadata": {
    "tags": []
   },
   "outputs": [
    {
     "data": {
      "text/plain": [
       "Student ID           0\n",
       "Name                 0\n",
       "Gender               0\n",
       "Age                  0\n",
       "GPA                  0\n",
       "Major                0\n",
       "Interested Domain    0\n",
       "Projects             0\n",
       "Future Career        0\n",
       "Python               0\n",
       "SQL                  0\n",
       "Java                 0\n",
       "dtype: int64"
      ]
     },
     "execution_count": 31,
     "metadata": {},
     "output_type": "execute_result"
    }
   ],
   "source": [
    "import numpy as np\n",
    "np.sum(data.isnull())"
   ]
  },
  {
   "cell_type": "markdown",
   "id": "78f69f38-6aa8-47b3-abb8-b699b6389c44",
   "metadata": {},
   "source": [
    "Tidak ditemukan Missing Value pada Data, jadi melanjutkan ke pembuatan Dummy pada Data"
   ]
  },
  {
   "cell_type": "markdown",
   "id": "1c92b0d1-5376-4400-8461-3ecfa3d3158d",
   "metadata": {},
   "source": [
    "# Membuat Dummy pada Data"
   ]
  },
  {
   "cell_type": "code",
   "execution_count": 32,
   "id": "1efa84a3-dc81-4d64-8d41-0a237c2857b5",
   "metadata": {
    "tags": []
   },
   "outputs": [
    {
     "data": {
      "text/html": [
       "<div>\n",
       "<style scoped>\n",
       "    .dataframe tbody tr th:only-of-type {\n",
       "        vertical-align: middle;\n",
       "    }\n",
       "\n",
       "    .dataframe tbody tr th {\n",
       "        vertical-align: top;\n",
       "    }\n",
       "\n",
       "    .dataframe thead th {\n",
       "        text-align: right;\n",
       "    }\n",
       "</style>\n",
       "<table border=\"1\" class=\"dataframe\">\n",
       "  <thead>\n",
       "    <tr style=\"text-align: right;\">\n",
       "      <th></th>\n",
       "      <th>Student ID</th>\n",
       "      <th>Name</th>\n",
       "      <th>Gender</th>\n",
       "      <th>Age</th>\n",
       "      <th>GPA</th>\n",
       "      <th>Major</th>\n",
       "      <th>Interested Domain</th>\n",
       "      <th>Projects</th>\n",
       "      <th>Future Career</th>\n",
       "      <th>Python</th>\n",
       "      <th>SQL</th>\n",
       "      <th>Java</th>\n",
       "    </tr>\n",
       "  </thead>\n",
       "  <tbody>\n",
       "    <tr>\n",
       "      <th>0</th>\n",
       "      <td>1</td>\n",
       "      <td>John Smith</td>\n",
       "      <td>Male</td>\n",
       "      <td>21</td>\n",
       "      <td>3.5</td>\n",
       "      <td>Computer Science</td>\n",
       "      <td>Artificial Intelligence</td>\n",
       "      <td>Chatbot Development</td>\n",
       "      <td>Machine Learning Researcher</td>\n",
       "      <td>Strong</td>\n",
       "      <td>Strong</td>\n",
       "      <td>Weak</td>\n",
       "    </tr>\n",
       "    <tr>\n",
       "      <th>1</th>\n",
       "      <td>2</td>\n",
       "      <td>Alice Johnson</td>\n",
       "      <td>Female</td>\n",
       "      <td>20</td>\n",
       "      <td>3.2</td>\n",
       "      <td>Computer Science</td>\n",
       "      <td>Data Science</td>\n",
       "      <td>Data Analytics</td>\n",
       "      <td>Data Scientist</td>\n",
       "      <td>Average</td>\n",
       "      <td>Strong</td>\n",
       "      <td>Weak</td>\n",
       "    </tr>\n",
       "    <tr>\n",
       "      <th>2</th>\n",
       "      <td>3</td>\n",
       "      <td>Robert Davis</td>\n",
       "      <td>Male</td>\n",
       "      <td>22</td>\n",
       "      <td>3.8</td>\n",
       "      <td>Computer Science</td>\n",
       "      <td>Software Development</td>\n",
       "      <td>E-commerce Website</td>\n",
       "      <td>Software Engineer</td>\n",
       "      <td>Strong</td>\n",
       "      <td>Strong</td>\n",
       "      <td>Average</td>\n",
       "    </tr>\n",
       "    <tr>\n",
       "      <th>3</th>\n",
       "      <td>4</td>\n",
       "      <td>Emily Wilson</td>\n",
       "      <td>Female</td>\n",
       "      <td>21</td>\n",
       "      <td>3.7</td>\n",
       "      <td>Computer Science</td>\n",
       "      <td>Web Development</td>\n",
       "      <td>Full-Stack Web App</td>\n",
       "      <td>Web Developer</td>\n",
       "      <td>Weak</td>\n",
       "      <td>Strong</td>\n",
       "      <td>Strong</td>\n",
       "    </tr>\n",
       "    <tr>\n",
       "      <th>4</th>\n",
       "      <td>5</td>\n",
       "      <td>Michael Brown</td>\n",
       "      <td>Male</td>\n",
       "      <td>23</td>\n",
       "      <td>3.4</td>\n",
       "      <td>Computer Science</td>\n",
       "      <td>Cybersecurity</td>\n",
       "      <td>Network Security</td>\n",
       "      <td>Information Security Analyst</td>\n",
       "      <td>Average</td>\n",
       "      <td>Weak</td>\n",
       "      <td>Strong</td>\n",
       "    </tr>\n",
       "  </tbody>\n",
       "</table>\n",
       "</div>"
      ],
      "text/plain": [
       "   Student ID           Name  Gender  Age  GPA             Major  \\\n",
       "0           1     John Smith    Male   21  3.5  Computer Science   \n",
       "1           2  Alice Johnson  Female   20  3.2  Computer Science   \n",
       "2           3   Robert Davis    Male   22  3.8  Computer Science   \n",
       "3           4   Emily Wilson  Female   21  3.7  Computer Science   \n",
       "4           5  Michael Brown    Male   23  3.4  Computer Science   \n",
       "\n",
       "         Interested Domain             Projects                 Future Career  \\\n",
       "0  Artificial Intelligence  Chatbot Development   Machine Learning Researcher   \n",
       "1             Data Science       Data Analytics                Data Scientist   \n",
       "2     Software Development   E-commerce Website             Software Engineer   \n",
       "3          Web Development   Full-Stack Web App                 Web Developer   \n",
       "4            Cybersecurity     Network Security  Information Security Analyst   \n",
       "\n",
       "    Python     SQL     Java  \n",
       "0   Strong  Strong     Weak  \n",
       "1  Average  Strong     Weak  \n",
       "2   Strong  Strong  Average  \n",
       "3     Weak  Strong   Strong  \n",
       "4  Average    Weak   Strong  "
      ]
     },
     "execution_count": 32,
     "metadata": {},
     "output_type": "execute_result"
    }
   ],
   "source": [
    "import pandas as pd\n",
    "data = pd.read_csv(\"D:/cs_studentss.csv\",  sep = \";\")\n",
    "data.head()"
   ]
  },
  {
   "cell_type": "code",
   "execution_count": 33,
   "id": "7fbf476d-54b9-4817-9ecc-660a29c8694f",
   "metadata": {
    "tags": []
   },
   "outputs": [
    {
     "data": {
      "text/html": [
       "<div>\n",
       "<style scoped>\n",
       "    .dataframe tbody tr th:only-of-type {\n",
       "        vertical-align: middle;\n",
       "    }\n",
       "\n",
       "    .dataframe tbody tr th {\n",
       "        vertical-align: top;\n",
       "    }\n",
       "\n",
       "    .dataframe thead th {\n",
       "        text-align: right;\n",
       "    }\n",
       "</style>\n",
       "<table border=\"1\" class=\"dataframe\">\n",
       "  <thead>\n",
       "    <tr style=\"text-align: right;\">\n",
       "      <th></th>\n",
       "      <th>Student ID</th>\n",
       "      <th>Name</th>\n",
       "      <th>Gender</th>\n",
       "      <th>Age</th>\n",
       "      <th>GPA</th>\n",
       "      <th>Major</th>\n",
       "      <th>Projects</th>\n",
       "      <th>Future Career</th>\n",
       "      <th>Python</th>\n",
       "      <th>SQL</th>\n",
       "      <th>...</th>\n",
       "      <th>InDo_Information Retrieval</th>\n",
       "      <th>InDo_IoT (Internet of Things)</th>\n",
       "      <th>InDo_Machine Learning</th>\n",
       "      <th>InDo_Mobile App Development</th>\n",
       "      <th>InDo_Natural Language Processing</th>\n",
       "      <th>InDo_Network Security</th>\n",
       "      <th>InDo_Quantum Computing</th>\n",
       "      <th>InDo_Software Development</th>\n",
       "      <th>InDo_Software Engineering</th>\n",
       "      <th>InDo_Web Development</th>\n",
       "    </tr>\n",
       "  </thead>\n",
       "  <tbody>\n",
       "    <tr>\n",
       "      <th>0</th>\n",
       "      <td>1</td>\n",
       "      <td>John Smith</td>\n",
       "      <td>Male</td>\n",
       "      <td>21</td>\n",
       "      <td>3.5</td>\n",
       "      <td>Computer Science</td>\n",
       "      <td>Chatbot Development</td>\n",
       "      <td>Machine Learning Researcher</td>\n",
       "      <td>Strong</td>\n",
       "      <td>Strong</td>\n",
       "      <td>...</td>\n",
       "      <td>0</td>\n",
       "      <td>0</td>\n",
       "      <td>0</td>\n",
       "      <td>0</td>\n",
       "      <td>0</td>\n",
       "      <td>0</td>\n",
       "      <td>0</td>\n",
       "      <td>0</td>\n",
       "      <td>0</td>\n",
       "      <td>0</td>\n",
       "    </tr>\n",
       "    <tr>\n",
       "      <th>1</th>\n",
       "      <td>2</td>\n",
       "      <td>Alice Johnson</td>\n",
       "      <td>Female</td>\n",
       "      <td>20</td>\n",
       "      <td>3.2</td>\n",
       "      <td>Computer Science</td>\n",
       "      <td>Data Analytics</td>\n",
       "      <td>Data Scientist</td>\n",
       "      <td>Average</td>\n",
       "      <td>Strong</td>\n",
       "      <td>...</td>\n",
       "      <td>0</td>\n",
       "      <td>0</td>\n",
       "      <td>0</td>\n",
       "      <td>0</td>\n",
       "      <td>0</td>\n",
       "      <td>0</td>\n",
       "      <td>0</td>\n",
       "      <td>0</td>\n",
       "      <td>0</td>\n",
       "      <td>0</td>\n",
       "    </tr>\n",
       "    <tr>\n",
       "      <th>2</th>\n",
       "      <td>3</td>\n",
       "      <td>Robert Davis</td>\n",
       "      <td>Male</td>\n",
       "      <td>22</td>\n",
       "      <td>3.8</td>\n",
       "      <td>Computer Science</td>\n",
       "      <td>E-commerce Website</td>\n",
       "      <td>Software Engineer</td>\n",
       "      <td>Strong</td>\n",
       "      <td>Strong</td>\n",
       "      <td>...</td>\n",
       "      <td>0</td>\n",
       "      <td>0</td>\n",
       "      <td>0</td>\n",
       "      <td>0</td>\n",
       "      <td>0</td>\n",
       "      <td>0</td>\n",
       "      <td>0</td>\n",
       "      <td>1</td>\n",
       "      <td>0</td>\n",
       "      <td>0</td>\n",
       "    </tr>\n",
       "    <tr>\n",
       "      <th>3</th>\n",
       "      <td>4</td>\n",
       "      <td>Emily Wilson</td>\n",
       "      <td>Female</td>\n",
       "      <td>21</td>\n",
       "      <td>3.7</td>\n",
       "      <td>Computer Science</td>\n",
       "      <td>Full-Stack Web App</td>\n",
       "      <td>Web Developer</td>\n",
       "      <td>Weak</td>\n",
       "      <td>Strong</td>\n",
       "      <td>...</td>\n",
       "      <td>0</td>\n",
       "      <td>0</td>\n",
       "      <td>0</td>\n",
       "      <td>0</td>\n",
       "      <td>0</td>\n",
       "      <td>0</td>\n",
       "      <td>0</td>\n",
       "      <td>0</td>\n",
       "      <td>0</td>\n",
       "      <td>1</td>\n",
       "    </tr>\n",
       "    <tr>\n",
       "      <th>4</th>\n",
       "      <td>5</td>\n",
       "      <td>Michael Brown</td>\n",
       "      <td>Male</td>\n",
       "      <td>23</td>\n",
       "      <td>3.4</td>\n",
       "      <td>Computer Science</td>\n",
       "      <td>Network Security</td>\n",
       "      <td>Information Security Analyst</td>\n",
       "      <td>Average</td>\n",
       "      <td>Weak</td>\n",
       "      <td>...</td>\n",
       "      <td>0</td>\n",
       "      <td>0</td>\n",
       "      <td>0</td>\n",
       "      <td>0</td>\n",
       "      <td>0</td>\n",
       "      <td>0</td>\n",
       "      <td>0</td>\n",
       "      <td>0</td>\n",
       "      <td>0</td>\n",
       "      <td>0</td>\n",
       "    </tr>\n",
       "  </tbody>\n",
       "</table>\n",
       "<p>5 rows × 37 columns</p>\n",
       "</div>"
      ],
      "text/plain": [
       "   Student ID           Name  Gender  Age  GPA             Major  \\\n",
       "0           1     John Smith    Male   21  3.5  Computer Science   \n",
       "1           2  Alice Johnson  Female   20  3.2  Computer Science   \n",
       "2           3   Robert Davis    Male   22  3.8  Computer Science   \n",
       "3           4   Emily Wilson  Female   21  3.7  Computer Science   \n",
       "4           5  Michael Brown    Male   23  3.4  Computer Science   \n",
       "\n",
       "              Projects                 Future Career   Python     SQL  ...  \\\n",
       "0  Chatbot Development   Machine Learning Researcher   Strong  Strong  ...   \n",
       "1       Data Analytics                Data Scientist  Average  Strong  ...   \n",
       "2   E-commerce Website             Software Engineer   Strong  Strong  ...   \n",
       "3   Full-Stack Web App                 Web Developer     Weak  Strong  ...   \n",
       "4     Network Security  Information Security Analyst  Average    Weak  ...   \n",
       "\n",
       "  InDo_Information Retrieval  InDo_IoT (Internet of Things)  \\\n",
       "0                          0                              0   \n",
       "1                          0                              0   \n",
       "2                          0                              0   \n",
       "3                          0                              0   \n",
       "4                          0                              0   \n",
       "\n",
       "   InDo_Machine Learning  InDo_Mobile App Development  \\\n",
       "0                      0                            0   \n",
       "1                      0                            0   \n",
       "2                      0                            0   \n",
       "3                      0                            0   \n",
       "4                      0                            0   \n",
       "\n",
       "   InDo_Natural Language Processing  InDo_Network Security  \\\n",
       "0                                 0                      0   \n",
       "1                                 0                      0   \n",
       "2                                 0                      0   \n",
       "3                                 0                      0   \n",
       "4                                 0                      0   \n",
       "\n",
       "   InDo_Quantum Computing  InDo_Software Development  \\\n",
       "0                       0                          0   \n",
       "1                       0                          0   \n",
       "2                       0                          1   \n",
       "3                       0                          0   \n",
       "4                       0                          0   \n",
       "\n",
       "   InDo_Software Engineering  InDo_Web Development  \n",
       "0                          0                     0  \n",
       "1                          0                     0  \n",
       "2                          0                     0  \n",
       "3                          0                     1  \n",
       "4                          0                     0  \n",
       "\n",
       "[5 rows x 37 columns]"
      ]
     },
     "execution_count": 33,
     "metadata": {},
     "output_type": "execute_result"
    }
   ],
   "source": [
    "data = pd.get_dummies(data, columns = ['Interested Domain'], drop_first=True, prefix='InDo', dtype=int)\n",
    "data.head()"
   ]
  },
  {
   "cell_type": "markdown",
   "id": "6df8bcb3-7c53-44eb-9df9-6edc2dfa482d",
   "metadata": {
    "tags": []
   },
   "source": [
    "Mengubah kolom 'Interested Domain' menjadi variabel dummy, di mana setiap kategori dalam kolom tersebut diubah menjadi kolom baru dengan nilai 0 atau 1."
   ]
  },
  {
   "cell_type": "markdown",
   "id": "28ddb3de-2c98-41ed-b4c4-799c90a19631",
   "metadata": {},
   "source": [
    "# Memeriksa Data Outlier"
   ]
  },
  {
   "cell_type": "code",
   "execution_count": 34,
   "id": "0483fead-5877-4313-8d46-8d096bd678c5",
   "metadata": {
    "tags": []
   },
   "outputs": [
    {
     "data": {
      "text/html": [
       "<div>\n",
       "<style scoped>\n",
       "    .dataframe tbody tr th:only-of-type {\n",
       "        vertical-align: middle;\n",
       "    }\n",
       "\n",
       "    .dataframe tbody tr th {\n",
       "        vertical-align: top;\n",
       "    }\n",
       "\n",
       "    .dataframe thead th {\n",
       "        text-align: right;\n",
       "    }\n",
       "</style>\n",
       "<table border=\"1\" class=\"dataframe\">\n",
       "  <thead>\n",
       "    <tr style=\"text-align: right;\">\n",
       "      <th></th>\n",
       "      <th>Student ID</th>\n",
       "      <th>Name</th>\n",
       "      <th>Gender</th>\n",
       "      <th>Age</th>\n",
       "      <th>GPA</th>\n",
       "      <th>Major</th>\n",
       "      <th>Interested Domain</th>\n",
       "      <th>Projects</th>\n",
       "      <th>Future Career</th>\n",
       "      <th>Python</th>\n",
       "      <th>SQL</th>\n",
       "      <th>Java</th>\n",
       "    </tr>\n",
       "  </thead>\n",
       "  <tbody>\n",
       "    <tr>\n",
       "      <th>0</th>\n",
       "      <td>1</td>\n",
       "      <td>John Smith</td>\n",
       "      <td>Male</td>\n",
       "      <td>21</td>\n",
       "      <td>3.5</td>\n",
       "      <td>Computer Science</td>\n",
       "      <td>Artificial Intelligence</td>\n",
       "      <td>Chatbot Development</td>\n",
       "      <td>Machine Learning Researcher</td>\n",
       "      <td>Strong</td>\n",
       "      <td>Strong</td>\n",
       "      <td>Weak</td>\n",
       "    </tr>\n",
       "    <tr>\n",
       "      <th>1</th>\n",
       "      <td>2</td>\n",
       "      <td>Alice Johnson</td>\n",
       "      <td>Female</td>\n",
       "      <td>20</td>\n",
       "      <td>3.2</td>\n",
       "      <td>Computer Science</td>\n",
       "      <td>Data Science</td>\n",
       "      <td>Data Analytics</td>\n",
       "      <td>Data Scientist</td>\n",
       "      <td>Average</td>\n",
       "      <td>Strong</td>\n",
       "      <td>Weak</td>\n",
       "    </tr>\n",
       "    <tr>\n",
       "      <th>2</th>\n",
       "      <td>3</td>\n",
       "      <td>Robert Davis</td>\n",
       "      <td>Male</td>\n",
       "      <td>22</td>\n",
       "      <td>3.8</td>\n",
       "      <td>Computer Science</td>\n",
       "      <td>Software Development</td>\n",
       "      <td>E-commerce Website</td>\n",
       "      <td>Software Engineer</td>\n",
       "      <td>Strong</td>\n",
       "      <td>Strong</td>\n",
       "      <td>Average</td>\n",
       "    </tr>\n",
       "    <tr>\n",
       "      <th>3</th>\n",
       "      <td>4</td>\n",
       "      <td>Emily Wilson</td>\n",
       "      <td>Female</td>\n",
       "      <td>21</td>\n",
       "      <td>3.7</td>\n",
       "      <td>Computer Science</td>\n",
       "      <td>Web Development</td>\n",
       "      <td>Full-Stack Web App</td>\n",
       "      <td>Web Developer</td>\n",
       "      <td>Weak</td>\n",
       "      <td>Strong</td>\n",
       "      <td>Strong</td>\n",
       "    </tr>\n",
       "    <tr>\n",
       "      <th>4</th>\n",
       "      <td>5</td>\n",
       "      <td>Michael Brown</td>\n",
       "      <td>Male</td>\n",
       "      <td>23</td>\n",
       "      <td>3.4</td>\n",
       "      <td>Computer Science</td>\n",
       "      <td>Cybersecurity</td>\n",
       "      <td>Network Security</td>\n",
       "      <td>Information Security Analyst</td>\n",
       "      <td>Average</td>\n",
       "      <td>Weak</td>\n",
       "      <td>Strong</td>\n",
       "    </tr>\n",
       "  </tbody>\n",
       "</table>\n",
       "</div>"
      ],
      "text/plain": [
       "   Student ID           Name  Gender  Age  GPA             Major  \\\n",
       "0           1     John Smith    Male   21  3.5  Computer Science   \n",
       "1           2  Alice Johnson  Female   20  3.2  Computer Science   \n",
       "2           3   Robert Davis    Male   22  3.8  Computer Science   \n",
       "3           4   Emily Wilson  Female   21  3.7  Computer Science   \n",
       "4           5  Michael Brown    Male   23  3.4  Computer Science   \n",
       "\n",
       "         Interested Domain             Projects                 Future Career  \\\n",
       "0  Artificial Intelligence  Chatbot Development   Machine Learning Researcher   \n",
       "1             Data Science       Data Analytics                Data Scientist   \n",
       "2     Software Development   E-commerce Website             Software Engineer   \n",
       "3          Web Development   Full-Stack Web App                 Web Developer   \n",
       "4            Cybersecurity     Network Security  Information Security Analyst   \n",
       "\n",
       "    Python     SQL     Java  \n",
       "0   Strong  Strong     Weak  \n",
       "1  Average  Strong     Weak  \n",
       "2   Strong  Strong  Average  \n",
       "3     Weak  Strong   Strong  \n",
       "4  Average    Weak   Strong  "
      ]
     },
     "execution_count": 34,
     "metadata": {},
     "output_type": "execute_result"
    }
   ],
   "source": [
    "import pandas as pd\n",
    "data = pd.read_csv(\"D:/cs_studentss.csv\",  sep = \";\")\n",
    "data.head()"
   ]
  },
  {
   "cell_type": "code",
   "execution_count": 35,
   "id": "1f630833-706a-4993-a2f3-2b161f936ed5",
   "metadata": {
    "tags": []
   },
   "outputs": [
    {
     "data": {
      "image/png": "[encoded data removed]",
      "text/plain": [
       "<Figure size 600x400 with 1 Axes>"
      ]
     },
     "metadata": {},
     "output_type": "display_data"
    },
    {
     "data": {
      "image/png": "[encoded data removed]",
      "text/plain": [
       "<Figure size 600x400 with 1 Axes>"
      ]
     },
     "metadata": {},
     "output_type": "display_data"
    }
   ],
   "source": [
    "import seaborn as sns\n",
    "import matplotlib.pyplot as plt\n",
    "\n",
    "columns=['Age', 'GPA'] \n",
    "\n",
    "for col in columns:\n",
    "    plt.figure(figsize=(6,4))\n",
    "    sns.boxplot(data=data[col])\n",
    "    plt.title(f'Box Plot {col}')\n",
    "    plt.show()"
   ]
  },
  {
   "cell_type": "markdown",
   "id": "f593b08e-0288-422a-9349-4bcfe0e3ecab",
   "metadata": {},
   "source": [
    "Ditemukan data outlier pada kolom 'Age'"
   ]
  },
  {
   "cell_type": "markdown",
   "id": "ea20698e-932e-4fe3-a6e5-9dd96e20940a",
   "metadata": {},
   "source": [
    "# Mengatasi Outlier pada kolom Age"
   ]
  },
  {
   "cell_type": "markdown",
   "id": "7e6d54fc-fd61-4590-9064-19f306be95eb",
   "metadata": {
    "tags": []
   },
   "source": [
    "Mengatasi Outlier dengan metode IQR"
   ]
  },
  {
   "cell_type": "code",
   "execution_count": 36,
   "id": "b4f01b79-66b5-4139-afe7-c682bf3c30ae",
   "metadata": {
    "tags": []
   },
   "outputs": [],
   "source": [
    "#Mengganti Outlier\n",
    "Q1 = data['Age'].quantile(0.25)\n",
    "Q3 = data['Age'].quantile(0.75)\n",
    "IQR = Q3 - Q1\n",
    "lower_bound = Q1 - 1.5 * IQR\n",
    "upper_bound = Q3 + 1.5 * IQR\n",
    "\n",
    "data['Age'] = data['Age'].apply(lambda x: lower_bound if x < lower_bound else (upper_bound if x > upper_bound else x))"
   ]
  },
  {
   "cell_type": "markdown",
   "id": "69ebf8d9-b50d-4477-b721-3dcad6401f48",
   "metadata": {},
   "source": [
    "mengganti outlier tersebut dengan nilai lower_bound atau upper_bound, tergantung pada apakah mereka berada di bawah atau di atas rentang yang diizinkan."
   ]
  },
  {
   "cell_type": "code",
   "execution_count": 37,
   "id": "8f365e7f-626f-42f8-9a64-3293fe6fde9e",
   "metadata": {
    "tags": []
   },
   "outputs": [
    {
     "data": {
      "image/png": "[encoded data removed]",
      "text/plain": [
       "<Figure size 600x400 with 1 Axes>"
      ]
     },
     "metadata": {},
     "output_type": "display_data"
    }
   ],
   "source": [
    "import seaborn as sns\n",
    "import matplotlib.pyplot as plt\n",
    "\n",
    "columns=['Age'] \n",
    "\n",
    "for col in columns:\n",
    "    plt.figure(figsize=(6,4))\n",
    "    sns.boxplot(data=data[col])\n",
    "    plt.title(f'Box Plot {col}')\n",
    "    plt.show()"
   ]
  },
  {
   "cell_type": "markdown",
   "id": "5e3c80fd-998b-4987-8ad7-d61da6e777d4",
   "metadata": {},
   "source": [
    "#  Transformasi Data"
   ]
  },
  {
   "cell_type": "code",
   "execution_count": 38,
   "id": "54f4ba4a-8084-45aa-b278-b50f52b8c8bd",
   "metadata": {
    "tags": []
   },
   "outputs": [
    {
     "name": "stderr",
     "output_type": "stream",
     "text": [
      "C:\\Users\\HP\\anaconda3\\Lib\\site-packages\\seaborn\\_oldcore.py:1119: FutureWarning: use_inf_as_na option is deprecated and will be removed in a future version. Convert inf values to NaN before operating instead.\n",
      "  with pd.option_context('mode.use_inf_as_na', True):\n"
     ]
    },
    {
     "data": {
      "image/png": "[encoded data removed]",
      "text/plain": [
       "<Figure size 600x400 with 1 Axes>"
      ]
     },
     "metadata": {},
     "output_type": "display_data"
    },
    {
     "name": "stderr",
     "output_type": "stream",
     "text": [
      "C:\\Users\\HP\\anaconda3\\Lib\\site-packages\\seaborn\\_oldcore.py:1119: FutureWarning: use_inf_as_na option is deprecated and will be removed in a future version. Convert inf values to NaN before operating instead.\n",
      "  with pd.option_context('mode.use_inf_as_na', True):\n"
     ]
    },
    {
     "data": {
      "image/png": "[encoded data removed]",
      "text/plain": [
       "<Figure size 600x400 with 1 Axes>"
      ]
     },
     "metadata": {},
     "output_type": "display_data"
    }
   ],
   "source": [
    "import seaborn as sns\n",
    "import matplotlib.pyplot as plt\n",
    "import numpy as np\n",
    "\n",
    "# Visualisasi Sebelum Transformasi\n",
    "plt.figure(figsize=(6,4))\n",
    "sns.histplot(data['Age'], bins=10, kde=True)\n",
    "plt.title('Distribusi Age Sebelum Transformasi')\n",
    "plt.show()\n",
    "\n",
    "# Log Transformation\n",
    "# Tambahkan 1 ke Age agar tidak ada nilai 0 (karena log(0) tidak terdefinisi)\n",
    "data['Age_log'] = np.log(data['Age'] + 1)\n",
    "\n",
    "# Visualisasi Setelah Transformasi\n",
    "plt.figure(figsize=(6,4))\n",
    "sns.histplot(data['Age_log'], bins=10, kde=True)\n",
    "plt.title('Distribusi Age Setelah Transformasi Log')\n",
    "plt.show()"
   ]
  },
  {
   "cell_type": "markdown",
   "id": "2bc5d327-1a04-433b-8874-f196204540b8",
   "metadata": {},
   "source": [
    "Transformasi pada kolom 'Age' bertujuan untuk memperbaiki kualitas data, sehingga lebih sesuai untuk analisis dan modeling. Dengan mengurangi skewness, meminimalkan pengaruh outliers, dan mendekatkan distribusi pada normal, juga dapat meningkatkan hasil analisis dan prediksi yang dihasilkan dari model yang digunakan."
   ]
  },
  {
   "cell_type": "code",
   "execution_count": null,
   "id": "86cc8646-9e1c-435c-a809-1cac3b9bac3e",
   "metadata": {},
   "outputs": [],
   "source": []
  }
 ],
 "metadata": {
  "kernelspec": {
   "display_name": "Python 3 (ipykernel)",
   "language": "python",
   "name": "python3"
  },
  "language_info": {
   "codemirror_mode": {
    "name": "ipython",
    "version": 3
   },
   "file_extension": ".py",
   "mimetype": "text/x-python",
   "name": "python",
   "nbconvert_exporter": "python",
   "pygments_lexer": "ipython3",
   "version": "3.11.4"
  }
 },
 "nbformat": 4,
 "nbformat_minor": 5
}
